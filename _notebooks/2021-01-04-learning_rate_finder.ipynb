{
 "cells": [
  {
   "cell_type": "markdown",
   "metadata": {},
   "source": [
    "# Learning Rate Finder \n",
    "> Automatically find optimal initial learning rate. See references.\n",
    "\n",
    "- toc: true \n",
    "- badges: true\n",
    "- comments: true\n",
    "- categories: [Keras]\n",
    "- image: images/chart-preview.png"
   ]
  },
  {
   "cell_type": "markdown",
   "metadata": {},
   "source": [
    "## 1. Automatical learning rate finder\n",
    "\n",
    "Step 1: We start by defining an upper and lower bound on our learning rate. The lower bound should be very small (1e-10) and the upper bound should be very large (1e+1). \n",
    "  - convergence (low lr) - divergence (high lr) \n",
    "\n",
    "Step 2: We then start training our network, starting at the lower bound. \n",
    "  - after each batch  we increase the learning rate --> exponentially increase\n",
    "  - after each batch register/save learning rate and loss for each batch\n",
    "\n",
    "Step 3: Training continues, and therefore the learning rate continues to increase until we hit our maximum learning rate value.\n",
    "   - typically, this entire training process/learning rate increase only takes 1-5 epochs\n",
    "\n",
    "Step 4: After training is complete we plot a smoothed loss over time, enabling us to see when the learning rate is both.\n",
    "\n",
    "   - Just large enough for loss to decrease\n",
    "   \n",
    "   - And too large, to the point where loss starts to increase\n",
    "   \n",
    "![](images/initial_learning_rate01.png)   "
   ]
  },
  {
   "cell_type": "markdown",
   "metadata": {},
   "source": [
    "![](images/initial_learning_rate02.png) "
   ]
  },
  {
   "cell_type": "markdown",
   "metadata": {},
   "source": [
    " ## 2. Initialize NN of learning rate  using obtained lower-upper bounds\n",
    " \n",
    "   - Cyclical Learning Rate policy - use both lower-upper bounds\n",
    "    \n",
    "   - Learning Rate Scheduele/Decay policy - use just the upper bound and decrease the learning rate as training progresses\n",
    "    \n",
    " \n",
    " "
   ]
  },
  {
   "cell_type": "code",
   "execution_count": 2,
   "metadata": {},
   "outputs": [],
   "source": [
    "import tensorflow as tf\n",
    "import matplotlib.pyplot as plt\n",
    "import numpy as np\n",
    "import pandas as pd\n",
    "import keras\n",
    "K = keras.backend\n",
    "from sklearn.datasets import load_breast_cancer\n",
    "from sklearn.preprocessing import StandardScaler"
   ]
  },
  {
   "cell_type": "code",
   "execution_count": 3,
   "metadata": {},
   "outputs": [],
   "source": [
    "#Import dataset\n",
    "data = load_breast_cancer()\n",
    "X_train, y_train = data.data, data.target \n",
    "scaler = StandardScaler()\n",
    "X_train = scaler.fit_transform(X_train)"
   ]
  },
  {
   "cell_type": "code",
   "execution_count": 4,
   "metadata": {},
   "outputs": [],
   "source": [
    "# construct model\n",
    "input_  = tf.keras.layers.Input(shape = (X_train.shape[1],))\n",
    "hidden1 = tf.keras.layers.Dense(units = 10, activation = \"relu\")(input_)\n",
    "hidden2 = tf.keras.layers.Dense(units = 10, activation = \"relu\")(hidden1)\n",
    "output  = tf.keras.layers.Dense(units = 2, activation = \"sigmoid\")(hidden2)\n",
    "model   = tf.keras.Model(inputs = [input_], outputs = [output])\n",
    "\n",
    "optimizer = tf.keras.optimizers.SGD()\n",
    "model.compile(loss = tf.keras.losses.MeanSquaredError(), optimizer = optimizer)"
   ]
  },
  {
   "cell_type": "code",
   "execution_count": 5,
   "metadata": {},
   "outputs": [],
   "source": [
    "class showLR(keras.callbacks.Callback) :\n",
    "    def on_batch_begin(self, batch, logs=None):\n",
    "        lr = float(K.get_value(self.model.optimizer.lr))\n",
    "        print (\" batch={:02d}, lr={:.5f}\".format( batch, lr ))\n",
    "        return lr\n",
    "\n",
    "class ExponentialLearningRate(keras.callbacks.Callback):\n",
    "    def __init__(self, factor):\n",
    "        self.factor = factor\n",
    "        self.rates = []\n",
    "        self.losses = []\n",
    "    def on_batch_end(self, batch, logs):\n",
    "        self.rates.append(K.get_value(self.model.optimizer.lr))\n",
    "        self.losses.append(logs[\"loss\"])\n",
    "        K.set_value(self.model.optimizer.lr, self.model.optimizer.lr * self.factor)"
   ]
  },
  {
   "cell_type": "code",
   "execution_count": 18,
   "metadata": {},
   "outputs": [
    {
     "name": "stdout",
     "output_type": "stream",
     "text": [
      " batch=00, lr=0.05000\n",
      " 1/48 [..............................] - ETA: 0s - loss: 0.1667 batch=01, lr=0.05869\n",
      " batch=02, lr=0.06890\n",
      " batch=03, lr=0.08088\n",
      " batch=04, lr=0.09494\n",
      " batch=05, lr=0.11144\n",
      " batch=06, lr=0.13082\n",
      " batch=07, lr=0.15357\n",
      " batch=08, lr=0.18026\n",
      " batch=09, lr=0.21161\n",
      " batch=10, lr=0.24840\n",
      " batch=11, lr=0.29158\n",
      " batch=12, lr=0.34228\n",
      " batch=13, lr=0.40179\n",
      " batch=14, lr=0.47165\n",
      " batch=15, lr=0.55365\n",
      " batch=16, lr=0.64991\n",
      "17/48 [=========>....................] - ETA: 0s - loss: 0.2132 batch=17, lr=0.76290\n",
      " batch=18, lr=0.89554\n",
      " batch=19, lr=1.05124\n",
      " batch=20, lr=1.23401\n",
      " batch=21, lr=1.44856\n",
      " batch=22, lr=1.70042\n",
      " batch=23, lr=1.99606\n",
      " batch=24, lr=2.34310\n",
      " batch=25, lr=2.75048\n",
      " batch=26, lr=3.22868\n",
      " batch=27, lr=3.79003\n",
      " batch=28, lr=4.44898\n",
      " batch=29, lr=5.22250\n",
      " batch=30, lr=6.13050\n",
      " batch=31, lr=7.19637\n",
      " batch=32, lr=8.44755\n",
      "33/48 [===================>..........] - ETA: 0s - loss: 0.2462 batch=33, lr=9.91627\n",
      " batch=34, lr=11.64034\n",
      " batch=35, lr=13.66417\n",
      " batch=36, lr=16.03987\n",
      " batch=37, lr=18.82861\n",
      " batch=38, lr=22.10222\n",
      " batch=39, lr=25.94498\n",
      " batch=40, lr=30.45586\n",
      " batch=41, lr=35.75102\n",
      " batch=42, lr=41.96681\n",
      " batch=43, lr=49.26329\n",
      " batch=44, lr=57.82837\n",
      " batch=45, lr=67.88261\n",
      " batch=46, lr=79.68490\n",
      " batch=47, lr=93.53918\n",
      "48/48 [==============================] - 0s 3ms/step - loss: 0.2487\n"
     ]
    }
   ],
   "source": [
    "def learning_rate_finder(model, X_train, y_train, epochs, batch_size, min_rate, max_rate):\n",
    "    # get weights that were used to initialize model\n",
    "    init_weights = model.get_weights()\n",
    "    # get and save initial leraning rate of model\n",
    "    init_lr = K.get_value(model.optimizer.lr)\n",
    "    # iterations = steps_per_epoch\n",
    "    iterations =  epochs * len(X_train)/(batch_size) # steps_per_epoch\n",
    "    # factor for computing expoenetial growth\n",
    "    factor = np.exp(np.log(max_rate / min_rate) / iterations)\n",
    "    # at batch = 0 set the learning rate at min_rate\n",
    "    K.set_value(model.optimizer.lr, min_rate)\n",
    "    # at each computed batch = 1,2,3, ... increase the learning rate by exponential growth\n",
    "    exp_lr = ExponentialLearningRate(factor)\n",
    "    # fit model\n",
    "    history = model.fit(X_train, y_train, epochs=1, batch_size = batch_size, callbacks=[exp_lr, showLR()])\n",
    "    return exp_lr.rates, exp_lr.losses\n",
    "\n",
    "rates, losses = learning_rate_finder(model, X_train, y_train, epochs=1, batch_size=12, min_rate=0.05, max_rate = 100)"
   ]
  },
  {
   "cell_type": "code",
   "execution_count": 19,
   "metadata": {},
   "outputs": [
    {
     "data": {
      "image/png": "[encoded data removed]",
      "text/plain": [
       "<Figure size 432x288 with 1 Axes>"
      ]
     },
     "metadata": {
      "needs_background": "light"
     },
     "output_type": "display_data"
    }
   ],
   "source": [
    "#plot_lr_vs_loss(rates, losses)\n",
    "def plot_lr_vs_loss(rates, losses):\n",
    "    plt.plot(rates, losses)\n",
    "    plt.gca().set_xscale('log')\n",
    "    plt.hlines(min(losses), min(rates), max(rates))\n",
    "    plt.axis([min(rates), max(rates), min(losses), max(losses)])\n",
    "    plt.xlabel(\"Learning rate\")\n",
    "    plt.ylabel(\"Loss\")\n",
    "    plt.show()\n",
    "plot_lr_vs_loss(rates, losses)"
   ]
  },
  {
   "cell_type": "markdown",
   "metadata": {},
   "source": [
    "## References\n",
    "\n",
    "> Adrian Rosebrock, OpenCV Face Recognition, PyImageSearch, https://www.pyimagesearch.com/, accessed on 3, January, 2021\n",
    "\n",
    "\n",
    "> https://www.pyimagesearch.com/2019/08/05/keras-learning-rate-finder/"
   ]
  }
 ],
 "metadata": {
  "kernelspec": {
   "display_name": "Python 3",
   "language": "python",
   "name": "python3"
  },
  "language_info": {
   "codemirror_mode": {
    "name": "ipython",
    "version": 3
   },
   "file_extension": ".py",
   "mimetype": "text/x-python",
   "name": "python",
   "nbconvert_exporter": "python",
   "pygments_lexer": "ipython3",
   "version": "3.7.9"
  }
 },
 "nbformat": 4,
 "nbformat_minor": 4
}
