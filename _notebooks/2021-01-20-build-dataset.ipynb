{
 "cells": [
  {
   "cell_type": "markdown",
   "metadata": {},
   "source": [
    "# Keras Build dataset\n",
    "> Build dataset\n",
    "\n",
    "- toc: true \n",
    "- badges: true\n",
    "- comments: true\n",
    "- categories: [Keras]\n",
    "- image: images/chart-preview.png"
   ]
  },
  {
   "cell_type": "code",
   "execution_count": 23,
   "metadata": {},
   "outputs": [],
   "source": [
    "import numpy as np\n",
    "import tensorflow as tf\n",
    "import os \n",
    "import glob\n",
    "import argparse\n",
    "import random\n",
    "import importlib\n",
    "#from resnet import ResNet\n",
    "import matplotlib.pyplot as plt\n",
    "from pysim import config\n",
    "importlib.reload(config)\n",
    "import glob\n",
    "import cv2\n",
    "import shutil\n",
    "from sklearn.preprocessing import LabelBinarizer\n",
    "from sklearn.model_selection import train_test_split"
   ]
  },
  {
   "cell_type": "markdown",
   "metadata": {},
   "source": [
    "## 1. Gewünschte Struktur-Verzeichniss (Varinate 1)\n",
    "\n",
    " - *flow_from_directory* - Struktur\n",
    " \n",
    "         -  TRAIN: data/train/class1/jpg,  data/train/class2/jpg\n",
    "         -  VAL: data/val/class1/jpg,  data/val/class2/jpg\n",
    "         -  TEST: data/test/class1/jpg,  data/test/class2/jpg\n",
    "         \n",
    " - In diesem Datensazt sind die Daten schon in Train, Val, Test verteilt       "
   ]
  },
  {
   "cell_type": "code",
   "execution_count": 53,
   "metadata": {},
   "outputs": [],
   "source": [
    "for split in (config.TRAIN, config.VAL, config.TEST):\n",
    "    print(\"[INFO] processing '{} split'...\".format(split))\n",
    "    imagePaths = glob.glob(os.path.sep.join([config.ORIG_INPUT_DATASET, split, '*']))\n",
    "    for imagePath in imagePaths:\n",
    "        filename =  imagePath.split(os.path.sep)[-1]\n",
    "        label = config.CLASSES[int(filename.split(\"_\")[0])]\n",
    "        #new directory path\n",
    "        newPath = os.path.sep.join([config.BASE_PATH, split, label])\n",
    "        # if directory doesn't exist than creat new\n",
    "        if not os.path.exists(newPath):\n",
    "            os.makedirs(newPath)\n",
    "        newPathFile = os.path.sep.join([newPath, filename])\n",
    "        shutil.copy2(imagePath, newPath)"
   ]
  },
  {
   "cell_type": "markdown",
   "metadata": {},
   "source": [
    "## 2. Gewünschte Struktur-Verzeichniss (Varinate 2)"
   ]
  },
  {
   "cell_type": "code",
   "execution_count": null,
   "metadata": {},
   "outputs": [],
   "source": [
    "filesPaths = glob.glob(os.path.sep.join([config.BASE_PATH, \"*\", \"*\"]))\n",
    "data  = []\n",
    "labels = []\n",
    "for imagePath in filesPaths:\n",
    "    label  = imagePath.split(os.path.sep)[-2]\n",
    "    image  = cv2.imread(imagePath)\n",
    "    image  = cv2.cvtColor(image, cv2.COLOR_BGR2RGB)\n",
    "    image  = cv2.resize(image, (128, 128))\n",
    "    data.append(image)\n",
    "    labels.append(label)"
   ]
  },
  {
   "cell_type": "markdown",
   "metadata": {},
   "source": [
    "## Referenzen:\n",
    "\n",
    "> Adrian Rosebrock, OpenCV Face Recognition, PyImageSearch, https://www.pyimagesearch.com/, accessed on 3 January, 2021\n",
    "\n",
    "\n",
    "> www: https://www.pyimagesearch.com/2019/05/20/transfer-learning-with-keras-and-deep-learning/"
   ]
  }
 ],
 "metadata": {
  "kernelspec": {
   "display_name": "Python 3",
   "language": "python",
   "name": "python3"
  },
  "language_info": {
   "codemirror_mode": {
    "name": "ipython",
    "version": 3
   },
   "file_extension": ".py",
   "mimetype": "text/x-python",
   "name": "python",
   "nbconvert_exporter": "python",
   "pygments_lexer": "ipython3",
   "version": "3.7.9"
  }
 },
 "nbformat": 4,
 "nbformat_minor": 4
}
